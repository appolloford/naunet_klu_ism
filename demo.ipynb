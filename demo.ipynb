{
 "cells": [
  {
   "cell_type": "code",
   "execution_count": null,
   "metadata": {},
   "outputs": [],
   "source": [
    "import numpy as np\n",
    "import matplotlib.pyplot as plt\n",
    "import tomlkit\n",
    "\n",
    "from pathlib import Path\n",
    "\n",
    "plt.rcParams[\"figure.figsize\"] = [8, 6]\n",
    "plt.rcParams[\"figure.dpi\"] = 100 # 200 e.g. is really fine, but slower"
   ]
  },
  {
   "cell_type": "markdown",
   "metadata": {},
   "source": [
    "#### Constants"
   ]
  },
  {
   "cell_type": "code",
   "execution_count": null,
   "metadata": {},
   "outputs": [],
   "source": [
    "spy = 365.0 * 86400.0"
   ]
  },
  {
   "cell_type": "markdown",
   "metadata": {},
   "source": [
    "#### Load species list"
   ]
  },
  {
   "cell_type": "code",
   "execution_count": null,
   "metadata": {},
   "outputs": [],
   "source": [
    "with open(\"naunet_config.toml\") as config:\n",
    "    content = tomlkit.loads(config.read())\n",
    "\n",
    "summary = content[\"summary\"]\n",
    "cur_species = summary[\"list_of_species\"]\n",
    "cur_nspec = summary[\"num_of_species\"]"
   ]
  },
  {
   "cell_type": "code",
   "execution_count": null,
   "metadata": {},
   "outputs": [],
   "source": [
    "refpath = Path(\"/scratch/cjhsu/walsh\")\n",
    "data = np.fromfile(refpath / \"test_output.bin\")\n",
    "\n",
    "ref_species = np.genfromtxt(refpath / \"rate12_complex_atomic.specs\", usecols=1, dtype=str)\n",
    "ref_nspec = len(ref_species) + 1 # include electron"
   ]
  },
  {
   "cell_type": "markdown",
   "metadata": {},
   "source": [
    "#### Time evolution of species"
   ]
  },
  {
   "cell_type": "code",
   "execution_count": null,
   "metadata": {},
   "outputs": [],
   "source": [
    "spec = \"C\"\n",
    "\n",
    "bindata = np.fromfile(f\"build/tests/evolution_singlegrid.bin\", dtype=\"float64\").reshape(-1, cur_nspec+1)\n",
    "cur_time = bindata[:, 0]\n",
    "cur_sidx = cur_species.index(spec) + 1\n",
    "cur_data = bindata[:, cur_sidx]\n",
    "\n",
    "ref_time = np.loadtxt(refpath / \"test_input.dat\")[:, -1]\n",
    "ref_time = np.append(0.0, ref_time)\n",
    "# ref_ntime = len(time)\n",
    "ref_nH = np.loadtxt(refpath / \"test_input.dat\")[0, 2]\n",
    "\n",
    "alldata = data.reshape(-1, ref_nspec)\n",
    "ref_sidx, = np.where(ref_species == spec)\n",
    "ref_data = alldata[:, ref_sidx] * ref_nH\n",
    "\n",
    "fig, ax = plt.subplots()\n",
    "ax.plot(cur_time, cur_data);\n",
    "ax.plot(ref_time / spy, ref_data);\n",
    "ax.set_xscale(\"log\");\n",
    "ax.set_yscale(\"log\");\n",
    "ax.set_xlabel(\"time (yr)\");\n",
    "ax.set_ylabel(f\"[{spec}]\");\n",
    "# plt.savefig(\"H2evolve.png\")"
   ]
  },
  {
   "cell_type": "markdown",
   "metadata": {},
   "source": [
    "#### Performance"
   ]
  },
  {
   "cell_type": "code",
   "execution_count": null,
   "metadata": {},
   "outputs": [],
   "source": [
    "ref_perftime = np.loadtxt(refpath / \"time.dat\")\n",
    "cur_perftime = np.loadtxt(\"build_intel/tests/time_singlegrid.txt\")\n",
    "\n",
    "fig, ax = plt.subplots()\n",
    "\n",
    "ax.plot(np.arange(0, len(cur_perftime)), cur_perftime);\n",
    "ax.plot(np.arange(0, len(ref_perftime)), ref_perftime);\n",
    "\n",
    "ax.set_yscale(\"log\")\n",
    "\n",
    "print(\"Time consumption ratio: \", np.sum(ref_perftime) / np.sum(cur_perftime))"
   ]
  },
  {
   "cell_type": "markdown",
   "metadata": {},
   "source": [
    "#### Check reaction rates (need turn on reaction rate output, only for debug)"
   ]
  },
  {
   "cell_type": "code",
   "execution_count": null,
   "metadata": {},
   "outputs": [],
   "source": [
    "# cov = 10.202240\n",
    "\n",
    "# cur_rates = np.loadtxt(\"build/tests/reactionrates.txt\")[1, :]\n",
    "# cur_rates[7070:7616] /= cov\n",
    "# cur_rates[8273:] /= cov**2\n",
    "\n",
    "# ref_rates = []\n",
    "# with open(refpath / \"test_rates.dat\", \"r\") as inp:\n",
    "#     for line in inp.readlines()[4:8768]:\n",
    "#         ref_rates.append(float(line[79:]))\n",
    "\n",
    "# fig, ax = plt.subplots(nrows=2, ncols=2)\n",
    "\n",
    "# ax[0][0].scatter(np.arange(0, 7070), ref_rates[:7070], s=2)\n",
    "# ax[0][0].scatter(np.arange(0, 7070), cur_rates[:7070], s=2, alpha=0.5)\n",
    "\n",
    "# ax[0][1].scatter(np.arange(7070, 7616), ref_rates[7070:7616], s=2)\n",
    "# ax[0][1].scatter(np.arange(7070, 7616), cur_rates[7070:7616], s=2, alpha=0.5)\n",
    "\n",
    "# ax[1][0].scatter(np.arange(7616, 8273), ref_rates[7616:8273], s=2)\n",
    "# ax[1][0].scatter(np.arange(7616, 8273), cur_rates[7616:8273], s=2, alpha=0.5)\n",
    "\n",
    "# ax[1][1].scatter(np.arange(8273, 8764), ref_rates[8273:], s=2)\n",
    "# ax[1][1].scatter(np.arange(8273, 8764), cur_rates[8273:], s=2, alpha=0.5)\n"
   ]
  },
  {
   "cell_type": "code",
   "execution_count": null,
   "metadata": {},
   "outputs": [],
   "source": []
  }
 ],
 "metadata": {
  "kernelspec": {
   "display_name": "Python 3.8.6 64-bit ('3.8.6')",
   "language": "python",
   "name": "python3"
  },
  "language_info": {
   "codemirror_mode": {
    "name": "ipython",
    "version": 3
   },
   "file_extension": ".py",
   "mimetype": "text/x-python",
   "name": "python",
   "nbconvert_exporter": "python",
   "pygments_lexer": "ipython3",
   "version": "3.8.6"
  },
  "orig_nbformat": 4,
  "vscode": {
   "interpreter": {
    "hash": "c2dc17ee713da8b32132342ada6929c094bcd6edc279b801e2bb7b23b9ed42f0"
   }
  }
 },
 "nbformat": 4,
 "nbformat_minor": 2
}
